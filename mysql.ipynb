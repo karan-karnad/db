{
 "cells": [
  {
   "cell_type": "markdown",
   "id": "b033df75",
   "metadata": {},
   "source": [
    "### 1) Download dataset and create college database:"
   ]
  },
  {
   "cell_type": "code",
   "execution_count": null,
   "id": "554460c2",
   "metadata": {},
   "outputs": [],
   "source": [
    "%env INSTANCE=my"
   ]
  },
  {
   "cell_type": "code",
   "execution_count": null,
   "id": "094402fb",
   "metadata": {},
   "outputs": [
    {
     "name": "stdout",
     "output_type": "stream",
     "text": [
      "Copying gs://cs327e-open-access/sakila.zip...\n",
      "/ [1 files][788.5 KiB/788.5 KiB]                                                \n",
      "Operation completed over 1 objects/788.5 KiB.                                    \n",
      "Archive:  sakila.zip\n",
      "replace sakila/.DS_Store? [y]es, [n]o, [A]ll, [N]one, [r]ename: "
     ]
    }
   ],
   "source": [
    "!gsutil cp gs://cs327e-open-access/sakila.zip .\n",
    "!unzip sakila.zip"
   ]
  },
  {
   "cell_type": "code",
   "execution_count": null,
   "id": "8322da69",
   "metadata": {},
   "outputs": [],
   "source": [
    "!unzip mysql_college.zip"
   ]
  },
  {
   "cell_type": "code",
   "execution_count": null,
   "id": "ca60c514",
   "metadata": {},
   "outputs": [],
   "source": [
    "!mysql < /home/jupyter/snippets/sakila/sakila-database.sql"
   ]
  },
  {
   "cell_type": "code",
   "execution_count": null,
   "id": "b051150a",
   "metadata": {},
   "outputs": [],
   "source": [
    "!mysql  -e \"show tables\""
   ]
  },
  {
   "cell_type": "markdown",
   "id": "2a79347c",
   "metadata": {},
   "source": [
    "### 2) Describe each table:"
   ]
  },
  {
   "cell_type": "code",
   "execution_count": null,
   "id": "362c410c",
   "metadata": {},
   "outputs": [],
   "source": [
    "!mysql college -e \"desc Class\""
   ]
  },
  {
   "cell_type": "code",
   "execution_count": null,
   "id": "6a680760",
   "metadata": {},
   "outputs": [],
   "source": [
    "!mysql college -e \"desc Instructor\""
   ]
  },
  {
   "cell_type": "code",
   "execution_count": null,
   "id": "675bab02",
   "metadata": {},
   "outputs": [],
   "source": [
    "!mysql college -e \"desc Student\""
   ]
  },
  {
   "cell_type": "code",
   "execution_count": null,
   "id": "c7953a0f",
   "metadata": {},
   "outputs": [],
   "source": [
    "!mysql college -e \"desc Teaches\""
   ]
  },
  {
   "cell_type": "markdown",
   "id": "d5381605",
   "metadata": {},
   "source": [
    "### 3) Import tables (Class, Student, Instructor, Teaches):"
   ]
  },
  {
   "cell_type": "code",
   "execution_count": null,
   "id": "61956a42",
   "metadata": {},
   "outputs": [],
   "source": [
    "!gcloud sql import csv $INSTANCE gs://cs327e-open-access/mysql_college/class.csv --database=college --table=Class --quiet"
   ]
  },
  {
   "cell_type": "code",
   "execution_count": null,
   "id": "d56f01bd",
   "metadata": {},
   "outputs": [],
   "source": [
    "!gcloud sql import csv $INSTANCE gs://cs327e-open-access/mysql_college/instructor.csv --database=college --table=Instructor --quiet"
   ]
  },
  {
   "cell_type": "code",
   "execution_count": null,
   "id": "87ca7a5e",
   "metadata": {},
   "outputs": [],
   "source": [
    "!gcloud sql import csv $INSTANCE gs://cs327e-open-access/mysql_college/student.csv --database=college --table=Student --quiet"
   ]
  },
  {
   "cell_type": "code",
   "execution_count": null,
   "id": "d8f97839",
   "metadata": {},
   "outputs": [],
   "source": [
    "!gcloud sql import csv $INSTANCE gs://cs327e-open-access/mysql_college/teaches.csv --database=college --table=Teaches --quiet"
   ]
  },
  {
   "cell_type": "markdown",
   "id": "a781e5f3",
   "metadata": {},
   "source": [
    "### 4) Check table record count:"
   ]
  },
  {
   "cell_type": "code",
   "execution_count": null,
   "id": "42c7e3e3",
   "metadata": {},
   "outputs": [],
   "source": [
    "!mysql college -e \"select count(*) from Class\""
   ]
  },
  {
   "cell_type": "code",
   "execution_count": null,
   "id": "603f7913",
   "metadata": {},
   "outputs": [],
   "source": [
    "!mysql college -e \"select count(*) from Student\""
   ]
  },
  {
   "cell_type": "code",
   "execution_count": null,
   "id": "b252b721",
   "metadata": {},
   "outputs": [],
   "source": [
    "!mysql college -e \"select count(*) from Instructor\""
   ]
  },
  {
   "cell_type": "code",
   "execution_count": null,
   "id": "3b292b72",
   "metadata": {},
   "outputs": [],
   "source": [
    "!mysql college -e \"select count(*) from Teaches\""
   ]
  },
  {
   "cell_type": "markdown",
   "id": "76b163be",
   "metadata": {},
   "source": [
    "### 5) Sample records from each table: "
   ]
  },
  {
   "cell_type": "code",
   "execution_count": null,
   "id": "c0e0d2c2",
   "metadata": {},
   "outputs": [],
   "source": [
    "!mysql college -e \"select * from Student\""
   ]
  },
  {
   "cell_type": "code",
   "execution_count": null,
   "id": "658e3757",
   "metadata": {},
   "outputs": [],
   "source": [
    "!mysql college -e \"select * from Class order by sid\""
   ]
  },
  {
   "cell_type": "code",
   "execution_count": null,
   "id": "c64e0a6f",
   "metadata": {},
   "outputs": [],
   "source": [
    "!mysql college -e \"select * from Instructor\""
   ]
  },
  {
   "cell_type": "code",
   "execution_count": null,
   "id": "ff3a6ef0",
   "metadata": {},
   "outputs": [],
   "source": [
    "!mysql college -e \"select * from Teaches\""
   ]
  },
  {
   "cell_type": "markdown",
   "id": "57b6849c",
   "metadata": {},
   "source": [
    "### Delete column header record from each table"
   ]
  },
  {
   "cell_type": "code",
   "execution_count": null,
   "id": "daf8be55",
   "metadata": {},
   "outputs": [],
   "source": [
    "!mysql college -e \"delete from Teaches where tid = 'tid'\""
   ]
  },
  {
   "cell_type": "code",
   "execution_count": null,
   "id": "5db6869d",
   "metadata": {},
   "outputs": [],
   "source": [
    "!mysql college -e \"delete from Instructor where tid = 'tid'\""
   ]
  },
  {
   "cell_type": "code",
   "execution_count": null,
   "id": "ae203e2f",
   "metadata": {},
   "outputs": [],
   "source": [
    "!mysql college -e \"delete from Class where sid = 'sid'\""
   ]
  },
  {
   "cell_type": "code",
   "execution_count": null,
   "id": "e1a619e8",
   "metadata": {},
   "outputs": [],
   "source": [
    "!mysql college -e \"delete from Student where sid = 'sid'\""
   ]
  },
  {
   "cell_type": "markdown",
   "id": "9fd0509a",
   "metadata": {},
   "source": [
    "### 6) Create Primary Keys"
   ]
  },
  {
   "cell_type": "code",
   "execution_count": null,
   "id": "23c69529",
   "metadata": {},
   "outputs": [],
   "source": [
    "!mysql college -e \"alter table Student add primary key (sid)\""
   ]
  },
  {
   "cell_type": "code",
   "execution_count": null,
   "id": "a9b06090",
   "metadata": {},
   "outputs": [],
   "source": [
    "!mysql college -e \"alter table Instructor add primary key (tid)\""
   ]
  },
  {
   "cell_type": "code",
   "execution_count": null,
   "id": "c334eb15",
   "metadata": {
    "jupyter": {
     "source_hidden": true
    }
   },
   "outputs": [],
   "source": [
    "!mysql college -e \"alter table Teaches add primary key (tid, cno)\""
   ]
  },
  {
   "cell_type": "code",
   "execution_count": null,
   "id": "686a5611",
   "metadata": {},
   "outputs": [],
   "source": [
    "!mysql college -e \"desc Student\""
   ]
  },
  {
   "cell_type": "markdown",
   "id": "7240ed9b",
   "metadata": {},
   "source": [
    "### 7) Create Foreign Key"
   ]
  },
  {
   "cell_type": "code",
   "execution_count": null,
   "id": "91a93bf5",
   "metadata": {},
   "outputs": [],
   "source": [
    "!mysql college -e \"alter table Teaches add constraint foreign key (tid) references Instructor (tid)\""
   ]
  },
  {
   "cell_type": "code",
   "execution_count": null,
   "id": "c8f03a4f",
   "metadata": {},
   "outputs": [],
   "source": [
    "!mysql college -e \"show create table Teaches\""
   ]
  },
  {
   "cell_type": "markdown",
   "id": "99eb5aeb",
   "metadata": {},
   "source": [
    "### 8) Test Foreign Key constraint on Teaches.tid"
   ]
  },
  {
   "cell_type": "code",
   "execution_count": null,
   "id": "20999369",
   "metadata": {},
   "outputs": [],
   "source": [
    "!mysql college -e \"insert into Teaches (tid, cno) values ('norman', 'cs313')\""
   ]
  },
  {
   "cell_type": "code",
   "execution_count": null,
   "id": "cc017d67",
   "metadata": {},
   "outputs": [],
   "source": []
  }
 ],
 "metadata": {
  "environment": {
   "name": "common-cpu.m78",
   "type": "gcloud",
   "uri": "gcr.io/deeplearning-platform-release/base-cpu:m78"
  },
  "kernelspec": {
   "display_name": "Python 3",
   "language": "python",
   "name": "python3"
  },
  "language_info": {
   "codemirror_mode": {
    "name": "ipython",
    "version": 3
   },
   "file_extension": ".py",
   "mimetype": "text/x-python",
   "name": "python",
   "nbconvert_exporter": "python",
   "pygments_lexer": "ipython3",
   "version": "3.7.10"
  }
 },
 "nbformat": 4,
 "nbformat_minor": 5
}
